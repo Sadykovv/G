{
 "cells": [
  {
   "cell_type": "markdown",
   "metadata": {},
   "source": [
    "# <center>Греческие буквы </center>"
   ]
  },
  {
   "cell_type": "markdown",
   "metadata": {},
   "source": [
    "<font size=\"6\">Прописные | <font size=\"6\">Строчные |<font size=\"6\"> Название\n",
    "---|---|---\n",
    "<font size=\"5\">Α|<font size=\"5\">α|<font size=\"5\">альфа\n",
    "<font size=\"5\">Β|<font size=\"5\">β|<font size=\"5\">бета\n",
    "<font size=\"5\">Γ|<font size=\"5\">γ|<font size=\"5\">гамма\n",
    "<font size=\"5\">Δ|<font size=\"5\">δ|<font size=\"5\">дельта\n",
    "<font size=\"5\">Ε|<font size=\"5\">ϵ,ɛ|<font size=\"5\">эпсилон\n",
    "<font size=\"5\">Ζ|<font size=\"5\">ζ|<font size=\"5\">дзета\n",
    "<font size=\"5\">Η|<font size=\"5\">η|<font size=\"5\">эта\n",
    "<font size=\"5\">Θ|<font size=\"5\">θ,ϑ|<font size=\"5\">тета\n",
    "<font size=\"5\">Ι|<font size=\"5\">ι|<font size=\"5\">йота\n",
    "<font size=\"5\">Κ|<font size=\"5\">κ,ϰ|<font size=\"5\">каппа\n",
    "<font size=\"5\">Λ|<font size=\"5\">λ|<font size=\"5\">лямбда\n",
    "<font size=\"5\">Μ|<font size=\"5\">μ|<font size=\"5\">мю\n",
    "<font size=\"5\">Ν|<font size=\"5\">ν|<font size=\"5\">ню\n",
    "<font size=\"5\">Ξ|<font size=\"5\">ξ|<font size=\"5\">кси\n",
    "<font size=\"5\">O|<font size=\"5\">o|<font size=\"5\">омикрон\n",
    "<font size=\"5\">Π|<font size=\"5\">π,ϖ|<font size=\"5\">пи\n",
    "<font size=\"5\">P|<font size=\"5\">𝜌,ϱ|<font size=\"5\">ро\n",
    "<font size=\"5\">Σ|<font size=\"5\">σ,ς|<font size=\"5\">сигма\n",
    "<font size=\"5\">T|<font size=\"5\">τ|<font size=\"5\">тау\n",
    "<font size=\"5\">𝛶|<font size=\"5\">υ|<font size=\"5\">ипсилон\n",
    "<font size=\"5\">Φ|<font size=\"5\">ϕ,φ|<font size=\"5\">фи\n",
    "<font size=\"5\">X|<font size=\"5\">χ|<font size=\"5\">хи\n",
    "<font size=\"5\">Ψ|<font size=\"5\">ψ|<font size=\"5\">пси\n",
    "<font size=\"5\">Ω|<font size=\"5\">ω|<font size=\"5\">омега"
   ]
  },
  {
   "cell_type": "markdown",
   "metadata": {},
   "source": [
    "Нормальное распределение\n",
    "$${\\displaystyle f(x)={\\frac {1}{\\sigma {\\sqrt {2\\pi }}}}e^{-{\\frac {1}{2}}\\left({\\frac {x-\\mu }{sigma }}\\right)^{2}}}$$"
   ]
  },
  {
   "cell_type": "markdown",
   "metadata": {},
   "source": []
  }
 ],
 "metadata": {
  "kernelspec": {
   "display_name": "Python 3",
   "language": "python",
   "name": "python3"
  },
  "language_info": {
   "codemirror_mode": {
    "name": "ipython",
    "version": 3
   },
   "file_extension": ".py",
   "mimetype": "text/x-python",
   "name": "python",
   "nbconvert_exporter": "python",
   "pygments_lexer": "ipython3",
   "version": "3.6.15"
  }
 },
 "nbformat": 4,
 "nbformat_minor": 2
}
